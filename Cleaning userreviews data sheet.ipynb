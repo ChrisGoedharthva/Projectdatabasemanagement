{
 "cells": [
  {
   "cell_type": "code",
   "execution_count": null,
   "id": "db510b6a",
   "metadata": {},
   "outputs": [],
   "source": [
    "import pandas as pd\n",
    "import numpy as np\n",
    "# to import the tools I need to clean the file\n",
    "\n",
    "import pandas as pd\n",
    "file_location = 'C:\\\\Users\\\\chris\\\\Downloads\\\\UserReviewsClean43LIWC.xlsx' #To define and show the location of the file\n",
    "df_clean = pd.read_excel(file_location) #Import the file\n",
    "\n",
    "df = df.drop(columns=[\"dateP\", \"Rev\", \"thumbsUp\", \"thumbsTot\", \"Analytic\", \"Clout\", \"Authentic\", \"Tone\", \"Sixltr\", \"Dic\", \n",
    "                      \"function\", \"ppron\", \"i\",\t\"we\", \"you\", \"shehe\", \"they\", \"ipron\", \"article\", \"prep\", \"auxverb\", \n",
    "                      \"adverb\", \"conj\", \"negate\", \"verb\", \"adj\", \"compare\", \"interrog\", \"number\", \"quant\", \"affect\", \n",
    "                      \"family\", \"friend\", \"female\", \"male\", \"insight\", \"cause\", \"discrep\", \"tentat\", \"certain\", \"differ\", \n",
    "                      \"percept\", \"see\", \"hear\", \"feel\", \"bio\", \"body\", \"health\", \"sexual\", \"ingest\", \"drives\", \"affiliation\", \n",
    "                      \"achieve\", \"power\", \"focuspast\", \"focuspresent\", \"focusfuture\",\t\"relativ\", \"motion\", \"space\", \"time\", \n",
    "                      \"work\", \"leisure\", \"home\", \"relig\", \"death\", \"informal\", \"swear\", \"netspeak\", \"assent\", \"nonflu\", \"filler\", \n",
    "                      \"AllPunc\", \"Period\", \"Comma\", \"Colon\", \"SemiC\", \"QMark\", \"Exclam\", \"Dash\", \"Quote\", \"Apostro\", \"Parenth\", \"OtherP\"])\n",
    "#Here I delete the colomns I don't need. The rest of the columns I need I got from the ERD\n",
    "\n",
    "user[\"movie name\"] = user[\"url\"].str.split(\"/\").str[-1].str.replace(\"-\", \"\", regex=False)\n",
    "#This is to split the URL and take the last part of the URL (the movie name), and put the movie name into a new column called 'movie name'\n",
    "\n",
    "user = user.dropna(thresh=3)\n",
    "#Here it will drop the row if there are more then 3 missing values in the row. Because we want trustworthy data.\n",
    "\n",
    "s = s.replace({'':np.nan}) #Replaces the empty values with NAN \n",
    "\n"
   ]
  }
 ],
 "metadata": {
  "kernelspec": {
   "display_name": "pythondebeste",
   "language": "python",
   "name": "python3"
  },
  "language_info": {
   "codemirror_mode": {
    "name": "ipython",
    "version": 3
   },
   "file_extension": ".py",
   "mimetype": "text/x-python",
   "name": "python",
   "nbconvert_exporter": "python",
   "pygments_lexer": "ipython3",
   "version": "3.12.11"
  }
 },
 "nbformat": 4,
 "nbformat_minor": 5
}
