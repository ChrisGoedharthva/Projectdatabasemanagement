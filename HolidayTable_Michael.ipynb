{
 "cells": [
  {
   "cell_type": "code",
   "execution_count": 10,
   "id": "45919481",
   "metadata": {},
   "outputs": [],
   "source": [
    "import pandas as pd \n",
    "import numpy as py\n",
    "from pathlib import Path\n",
    "\n",
    "df_holiday = pd.read_excel(\"C:\\\\Users\\\\dbust\\\\OneDrive\\\\Documentos\\\\Amsterdam_2025\\\\DDBM\\\\Database_Management\\\\Project_DBM\\\\holiday_table.xlsx\")\n",
    "\n",
    "df_holiday[\"holiday_id\"]=\"default_value\""
   ]
  },
  {
   "cell_type": "code",
   "execution_count": 11,
   "id": "ed878268",
   "metadata": {},
   "outputs": [
    {
     "name": "stdout",
     "output_type": "stream",
     "text": [
      "     holiday_name  Season  start_date day  start_date_month  end_date_day  \\\n",
      "0       christmas  winter              24                12            26   \n",
      "1          easter  spring              18                 4            21   \n",
      "2      new years   winter              31                12             1   \n",
      "3      halloween   autumn              30                10            31   \n",
      "4  valentines day  winter              14                 2            15   \n",
      "\n",
      "   end_date_month  holiday_date_day  holiday_date_month  holiday_id  \n",
      "0              12                25                  12           1  \n",
      "1               4                20                   4           2  \n",
      "2               1                 1                   1           3  \n",
      "3              10                31                  10           4  \n",
      "4               2                14                   2           5  \n",
      "Index(['holiday_name', 'Season', 'start_date day', 'start_date_month',\n",
      "       'end_date_day', 'end_date_month', 'holiday_date_day',\n",
      "       'holiday_date_month', 'holiday_id'],\n",
      "      dtype='object')\n"
     ]
    }
   ],
   "source": [
    "df_holiday[\"holiday_id\"] = df_holiday[\"holiday_name\"].astype(str).factorize()[0] + 1 #to create a holiday id per unique user.\n",
    "print(df_holiday.head(5))\n",
    "print(df_holiday.columns)"
   ]
  },
  {
   "cell_type": "code",
   "execution_count": 12,
   "id": "8a7ba92c",
   "metadata": {},
   "outputs": [],
   "source": [
    "output_file = \"C:\\\\Users\\\\dbust\\\\OneDrive\\\\Documentos\\\\Amsterdam_2025\\\\DDBM\\\\Database_Management\\\\Project_DBM\\\\holy_id_table.xlsx\"\n",
    "\n",
    "df_holiday.to_excel(output_file, index=False)"
   ]
  }
 ],
 "metadata": {
  "kernelspec": {
   "display_name": "DtaBaseProject",
   "language": "python",
   "name": "python3"
  },
  "language_info": {
   "codemirror_mode": {
    "name": "ipython",
    "version": 3
   },
   "file_extension": ".py",
   "mimetype": "text/x-python",
   "name": "python",
   "nbconvert_exporter": "python",
   "pygments_lexer": "ipython3",
   "version": "3.12.11"
  }
 },
 "nbformat": 4,
 "nbformat_minor": 5
}
