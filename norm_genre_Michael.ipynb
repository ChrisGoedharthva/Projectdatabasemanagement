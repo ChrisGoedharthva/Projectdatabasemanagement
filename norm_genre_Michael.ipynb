{
 "cells": [
  {
   "cell_type": "code",
   "execution_count": 1,
   "id": "ef148534",
   "metadata": {},
   "outputs": [
    {
     "name": "stdout",
     "output_type": "stream",
     "text": [
      "Loaded metaClean43Brightspace.xlsx: 11364 rows, 13 cols\n",
      "Unique genres: 27\n",
      "    genre_id        genre\n",
      "0          1  Documentary\n",
      "1          2       Action\n",
      "2          3       Sci-Fi\n",
      "3          4        Drama\n",
      "4          5      Mystery\n",
      "5          6     Thriller\n",
      "6          7       Horror\n",
      "7          8       Comedy\n",
      "8          9      Romance\n",
      "9         10    Adventure\n",
      "10        11      Fantasy\n",
      "11        12       Family\n",
      "12        13        Crime\n",
      "13        14          War\n",
      "14        15      History\n",
      "15        16        Sport\n",
      "16        17    Biography\n",
      "17        18        Music\n",
      "18        19         News\n",
      "19        20      Musical\n"
     ]
    }
   ],
   "source": [
    "import pandas as pd       # data manipulation\n",
    "import numpy as np        # numerical operations\n",
    "import re                 # regular expressions\n",
    "from pathlib import Path  # handle filesystem paths\n",
    "\n",
    "#function to load excel file and print rows and columns\n",
    "def load_excel(path: Path, filename: str):\n",
    "    file = path / filename                          # create full path\n",
    "    if not file.exists():                           # check if file exists\n",
    "        raise FileNotFoundError(f\"File not found: {file}\")\n",
    "    df = pd.read_excel(file, engine=\"openpyxl\")     # read excel file with openpyxl\n",
    "    print(f\"Loaded {filename}: {df.shape[0]} rows, {df.shape[1]} cols\")\n",
    "    return df\n",
    "\n",
    "#split comma-separated strings into list and strip spaces\n",
    "def split_and_strip(s):\n",
    "    if pd.isna(s) or str(s).strip() == '':\n",
    "        return []\n",
    "    return [item.strip() for item in str(s).split(',') if item.strip() != '']\n",
    "\n",
    "base_path = Path(r\"C:\\Users\\dbust\\OneDrive\\Documentos\\Amsterdam_2025\\DDBM\\Database_Management\\Project_DBM\")\n",
    "\n",
    "df = load_excel(base_path, \"metaClean43Brightspace.xlsx\")  # load movies data\n",
    "\n",
    "df_genre= df.filter(items=['title', 'genre'])\n",
    "\n",
    "\n",
    "#convert genre columns into lists\n",
    "if 'genre' in df_genre.columns:\n",
    "    df_genre['genre'] = df_genre['genre'].apply(split_and_strip)\n",
    "    #print(df_genre['genre'])\n",
    "    \n",
    "# ---- Create normalized genre table ----\n",
    "\n",
    "#explode genre lists into individual rows\n",
    "norm_genre=df_genre[['genre']].explode('genre').dropna()\n",
    "\n",
    "#drop duplicates to get unique genres\n",
    "norm_genre = norm_genre.drop_duplicates().reset_index(drop=True)\n",
    "\n",
    "#add genre_id\n",
    "norm_genre['genre_id'] = range(1, len(norm_genre) + 1)\n",
    "\n",
    "#reorder columns\n",
    "norm_genre = norm_genre[['genre_id', 'genre']]\n",
    "\n",
    "#print check\n",
    "print(\"Unique genres:\", len(norm_genre))\n",
    "print(norm_genre.head(20))\n"
   ]
  },
  {
   "cell_type": "markdown",
   "id": "dbae69b6",
   "metadata": {},
   "source": [
    "Add movie id to genre DF"
   ]
  },
  {
   "cell_type": "code",
   "execution_count": null,
   "id": "8e7adb9e",
   "metadata": {},
   "outputs": [
    {
     "name": "stdout",
     "output_type": "stream",
     "text": [
      "Unique genres with movie_id lists: 27\n",
      "    genre_id        genre                                           movie_id\n",
      "0          1  Documentary  [1, 16, 18, 41, 58, 61, 80, 106, 117, 122, 128...\n",
      "1          2       Action  [28, 1595, 1939, 4665, 5566, 5640, 6239, 6678,...\n",
      "2          3       Sci-Fi                [63, 4686, 6719, 7510, 7938, 10151]\n",
      "3          4        Drama  [6, 7, 10, 14, 42, 46, 48, 56, 65, 75, 78, 83,...\n",
      "4          5      Mystery                [261, 2553, 6468, 8507, 8926, 9974]\n",
      "5          6     Thriller  [215, 292, 581, 594, 612, 638, 717, 1161, 1214...\n",
      "6          7       Horror  [686, 752, 778, 885, 1160, 1287, 1365, 1367, 1...\n",
      "7          8       Comedy  [50, 51, 66, 89, 99, 142, 149, 183, 210, 219, ...\n",
      "8          9      Romance  [1510, 3140, 3212, 5464, 8222, 8228, 9327, 103...\n",
      "9         10    Adventure  [1622, 1801, 3606, 4668, 8439, 8932, 9937, 11168]\n",
      "10        11      Fantasy                          [1382, 1919, 2618, 11352]\n",
      "11        12       Family                                 [3637, 6429, 9521]\n",
      "12        13        Crime                                             [3349]\n",
      "13        14          War                                      [1579, 10860]\n",
      "14        15      History                                             [2857]\n",
      "15        16        Sport                                                NaN\n",
      "16        17    Biography  [1791, 3507, 5395, 6009, 7197, 7476, 8514, 101...\n",
      "17        18        Music                                       [1049, 1300]\n",
      "18        19         News                                                NaN\n",
      "19        20      Musical                            [369, 5132, 5317, 6415]\n"
     ]
    }
   ],
   "source": [
    "#Add movie_id list per genre\n",
    "\n",
    "# make sure df has a movie_id column\n",
    "if 'movie_id' not in df.columns:\n",
    "    df['movie_id'] = range(1, len(df) + 1)\n",
    "\n",
    "# expand the relationship movie_id - genre\n",
    "df_movie_genre = df[['movie_id', 'genre']].explode('genre').dropna()\n",
    "\n",
    "# group by genre and collect all movie_id values in a list\n",
    "genre_movie_map = (\n",
    "    df_movie_genre\n",
    "    .groupby('genre')['movie_id']\n",
    "    .apply(list)   # creates lists of movie_id for each genre\n",
    "    .reset_index()\n",
    ")\n",
    "\n",
    "# merge with norm_genre to add the new column\n",
    "norm_genre = norm_genre.merge(genre_movie_map, on='genre', how='left')\n",
    "\n",
    "# reorder columns for clarity\n",
    "norm_genre = norm_genre[['genre_id', 'genre', 'movie_id']]\n",
    "\n",
    "# print check\n",
    "print(\"Unique genres with movie_id lists:\", len(norm_genre))\n",
    "print(norm_genre.head(20))\n"
   ]
  },
  {
   "cell_type": "code",
   "execution_count": null,
   "id": "43d83587",
   "metadata": {},
   "outputs": [],
   "source": []
  }
 ],
 "metadata": {
  "kernelspec": {
   "display_name": "DtaBaseProject",
   "language": "python",
   "name": "python3"
  },
  "language_info": {
   "codemirror_mode": {
    "name": "ipython",
    "version": 3
   },
   "file_extension": ".py",
   "mimetype": "text/x-python",
   "name": "python",
   "nbconvert_exporter": "python",
   "pygments_lexer": "ipython3",
   "version": "3.12.11"
  }
 },
 "nbformat": 4,
 "nbformat_minor": 5
}
