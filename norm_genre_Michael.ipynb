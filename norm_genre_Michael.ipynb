{
 "cells": [
  {
   "cell_type": "code",
   "execution_count": 1,
   "id": "ef148534",
   "metadata": {},
   "outputs": [
    {
     "name": "stdout",
     "output_type": "stream",
     "text": [
      "Loaded metaClean43Brightspace.xlsx: 11364 rows, 13 cols\n",
      "Unique genres: 27\n",
      "    genre_id        genre\n",
      "0          1  Documentary\n",
      "1          2       Action\n",
      "2          3       Sci-Fi\n",
      "3          4        Drama\n",
      "4          5      Mystery\n",
      "5          6     Thriller\n",
      "6          7       Horror\n",
      "7          8       Comedy\n",
      "8          9      Romance\n",
      "9         10    Adventure\n",
      "10        11      Fantasy\n",
      "11        12       Family\n",
      "12        13        Crime\n",
      "13        14          War\n",
      "14        15      History\n",
      "15        16        Sport\n",
      "16        17    Biography\n",
      "17        18        Music\n",
      "18        19         News\n",
      "19        20      Musical\n"
     ]
    }
   ],
   "source": [
    "import pandas as pd       # data manipulation\n",
    "import numpy as np        # numerical operations\n",
    "import re                 # regular expressions\n",
    "from pathlib import Path  # handle filesystem paths\n",
    "\n",
    "#function to load excel file and print rows and columns\n",
    "def load_excel(path: Path, filename: str):\n",
    "    file = path / filename                          # create full path\n",
    "    if not file.exists():                           # check if file exists\n",
    "        raise FileNotFoundError(f\"File not found: {file}\")\n",
    "    df = pd.read_excel(file, engine=\"openpyxl\")     # read excel file with openpyxl\n",
    "    print(f\"Loaded {filename}: {df.shape[0]} rows, {df.shape[1]} cols\")\n",
    "    return df\n",
    "\n",
    "#split comma-separated strings into list and strip spaces\n",
    "def split_and_strip(s):\n",
    "    if pd.isna(s) or str(s).strip() == '':\n",
    "        return []\n",
    "    return [item.strip() for item in str(s).split(',') if item.strip() != '']\n",
    "\n",
    "base_path = Path(r\"C:\\Users\\dbust\\OneDrive\\Documentos\\Amsterdam_2025\\DDBM\\Database_Management\\Project_DBM\")\n",
    "\n",
    "df = load_excel(base_path, \"metaClean43Brightspace.xlsx\")  # load movies data\n",
    "\n",
    "df_genre= df.filter(items=['title', 'genre'])\n",
    "\n",
    "\n",
    "#convert genre columns into lists\n",
    "if 'genre' in df_genre.columns:\n",
    "    df_genre['genre'] = df_genre['genre'].apply(split_and_strip)\n",
    "    #print(df_genre['genre'])\n",
    "    \n",
    "# ---- Create normalized genre table ----\n",
    "\n",
    "#explode genre lists into individual rows\n",
    "norm_genre=df_genre[['genre']].explode('genre').dropna()\n",
    "\n",
    "#drop duplicates to get unique genres\n",
    "norm_genre = norm_genre.drop_duplicates().reset_index(drop=True)\n",
    "\n",
    "#add genre_id\n",
    "norm_genre['genre_id'] = range(1, len(norm_genre) + 1)\n",
    "\n",
    "#reorder columns\n",
    "norm_genre = norm_genre[['genre_id', 'genre']]\n",
    "\n",
    "#print check\n",
    "print(\"Unique genres:\", len(norm_genre))\n",
    "print(norm_genre.head(20))\n"
   ]
  }
 ],
 "metadata": {
  "kernelspec": {
   "display_name": "DtaBaseProject",
   "language": "python",
   "name": "python3"
  },
  "language_info": {
   "codemirror_mode": {
    "name": "ipython",
    "version": 3
   },
   "file_extension": ".py",
   "mimetype": "text/x-python",
   "name": "python",
   "nbconvert_exporter": "python",
   "pygments_lexer": "ipython3",
   "version": "3.12.11"
  }
 },
 "nbformat": 4,
 "nbformat_minor": 5
}
